{
 "cells": [
  {
   "cell_type": "code",
   "execution_count": 1,
   "metadata": {},
   "outputs": [
    {
     "name": "stdout",
     "output_type": "stream",
     "text": [
      "Data shape: (2260701, 131)\n",
      "\n",
      "Default flag distribution (proportion):\n",
      "default_flag\n",
      "0    0.869768\n",
      "1    0.130232\n",
      "Name: proportion, dtype: float64\n"
     ]
    }
   ],
   "source": [
    "# ─── Cell 1: IMPORTS & DATA LOAD ────────────────────────────────────────────────\n",
    "import pandas as pd\n",
    "from sklearn.model_selection import train_test_split\n",
    "from sklearn.linear_model import LogisticRegression\n",
    "from sklearn.metrics import (\n",
    "    accuracy_score, precision_score, recall_score, f1_score, roc_auc_score\n",
    ")\n",
    "\n",
    "# Load cleaned data\n",
    "df = pd.read_csv(\"../data/processed/cleaned_loans2.csv\")\n",
    "\n",
    "# Quick sanity checks\n",
    "print(\"Data shape:\", df.shape)\n",
    "print(\"\\nDefault flag distribution (proportion):\")\n",
    "print(df['default_flag'].value_counts(normalize=True))\n"
   ]
  },
  {
   "cell_type": "code",
   "execution_count": 2,
   "metadata": {},
   "outputs": [
    {
     "name": "stdout",
     "output_type": "stream",
     "text": [
      "Train shape: (1808560, 130) Test shape: (452141, 130)\n",
      "Model training complete.\n"
     ]
    }
   ],
   "source": [
    "# ─── Cell 2: SPLIT & TRAIN ──────────────────────────────────────────────────────\n",
    "# 1. Define features & target\n",
    "X = df.drop(columns=['default_flag'])\n",
    "y = df['default_flag']\n",
    "\n",
    "# 2. Train/test split (80/20 stratified)\n",
    "X_train, X_test, y_train, y_test = train_test_split(\n",
    "    X, y, test_size=0.20, stratify=y, random_state=42\n",
    ")\n",
    "print(\"Train shape:\", X_train.shape, \"Test shape:\", X_test.shape)\n",
    "\n",
    "# 3. Initialize and train Logistic Regression\n",
    "lr = LogisticRegression(max_iter=2000, n_jobs=-1)\n",
    "lr.fit(X_train, y_train)\n",
    "print(\"Model training complete.\")\n"
   ]
  },
  {
   "cell_type": "code",
   "execution_count": 3,
   "metadata": {},
   "outputs": [
    {
     "name": "stdout",
     "output_type": "stream",
     "text": [
      "Accuracy:    0.8842\n",
      "Precision:   0.8396\n",
      "Recall:      0.1372\n",
      "F1 Score:    0.2358\n",
      "ROC-AUC:     0.7671\n"
     ]
    }
   ],
   "source": [
    "# ─── Cell 3: BASELINE EVALUATION ────────────────────────────────────────────────\n",
    "# Predictions & probabilities\n",
    "y_pred = lr.predict(X_test)\n",
    "y_prob = lr.predict_proba(X_test)[:, 1]\n",
    "\n",
    "# Compute metrics\n",
    "acc  = accuracy_score(y_test, y_pred)\n",
    "prec = precision_score(y_test, y_pred)\n",
    "rec  = recall_score(y_test, y_pred)\n",
    "f1   = f1_score(y_test, y_pred)\n",
    "roc  = roc_auc_score(y_test, y_prob)\n",
    "\n",
    "# Print results\n",
    "print(f\"Accuracy:    {acc:.4f}\")\n",
    "print(f\"Precision:   {prec:.4f}\")\n",
    "print(f\"Recall:      {rec:.4f}\")\n",
    "print(f\"F1 Score:    {f1:.4f}\")\n",
    "print(f\"ROC-AUC:     {roc:.4f}\")\n"
   ]
  },
  {
   "cell_type": "code",
   "execution_count": 4,
   "metadata": {},
   "outputs": [
    {
     "name": "stdout",
     "output_type": "stream",
     "text": [
      "Thresh  Precision   Recall\n",
      " 0.10     0.2207     0.7871\n",
      " 0.20     0.3610     0.4267\n",
      " 0.30     0.5014     0.2541\n",
      " 0.40     0.6698     0.1742\n",
      " 0.50     0.8396     0.1372\n",
      " 0.60     0.9413     0.1239\n",
      " 0.70     0.9870     0.1190\n",
      " 0.80     0.9977     0.1180\n"
     ]
    }
   ],
   "source": [
    "# ─── Cell 4: THRESHOLD TUNING ──────────────────────────────────────────────────\n",
    "import numpy as np\n",
    "from sklearn.metrics import precision_score, recall_score\n",
    "\n",
    "thresholds = np.arange(0.1, 0.9, 0.1)\n",
    "print(\"Thresh  Precision   Recall\")\n",
    "for t in thresholds:\n",
    "    preds_t = (y_prob >= t).astype(int)\n",
    "    p = precision_score(y_test, preds_t)\n",
    "    r = recall_score(y_test, preds_t)\n",
    "    print(f\"{t:>5.2f}   {p:>8.4f}   {r:>8.4f}\")\n"
   ]
  },
  {
   "cell_type": "code",
   "execution_count": 5,
   "metadata": {},
   "outputs": [
    {
     "name": "stdout",
     "output_type": "stream",
     "text": [
      "Metrics at threshold = 0.20:\n",
      "  Precision: 0.3610304893818788\n",
      "  Recall:    0.4267275784182192\n"
     ]
    }
   ],
   "source": [
    "# ─── Cell 5: EVALUATE AT THRESHOLD 0.20 ────────────────────────────────────────\n",
    "from sklearn.metrics import precision_score, recall_score\n",
    "\n",
    "threshold = 0.20\n",
    "y_pred_t = (y_prob >= threshold).astype(int)\n",
    "\n",
    "print(f\"Metrics at threshold = {threshold:.2f}:\")\n",
    "print(\"  Precision:\", precision_score(y_test, y_pred_t))\n",
    "print(\"  Recall:   \", recall_score(y_test, y_pred_t))\n"
   ]
  },
  {
   "cell_type": "code",
   "execution_count": 6,
   "metadata": {},
   "outputs": [
    {
     "name": "stdout",
     "output_type": "stream",
     "text": [
      "Top 10 features by absolute coefficient (abs):\n",
      " debt_settlement_flag_Y           10.906848\n",
      "hardship_flag_Y                   2.696841\n",
      "pymnt_plan_y                      1.990420\n",
      "funded_amnt_inv                   1.047006\n",
      "disbursement_method_DirectPay     0.897628\n",
      "purpose_wedding                   0.798408\n",
      "sub_grade_enc                     0.701814\n",
      "loan_amnt                         0.665252\n",
      "home_ownership_MORTGAGE           0.611808\n",
      "funded_amnt                       0.513606\n",
      "dtype: float64\n",
      "\n",
      "Signed coefficients (positive → higher PD, negative → lower PD):\n",
      "debt_settlement_flag_Y           10.906848\n",
      "hardship_flag_Y                   2.696841\n",
      "pymnt_plan_y                      1.990420\n",
      "funded_amnt_inv                   1.047006\n",
      "disbursement_method_DirectPay    -0.897628\n",
      "purpose_wedding                  -0.798408\n",
      "sub_grade_enc                     0.701814\n",
      "loan_amnt                        -0.665252\n",
      "home_ownership_MORTGAGE          -0.611808\n",
      "funded_amnt                      -0.513606\n",
      "dtype: float64\n"
     ]
    }
   ],
   "source": [
    "# ─── Cell 6: FEATURE IMPORTANCE ─────────────────────────────────────────────────\n",
    "import pandas as pd\n",
    "\n",
    "# Coefficients from the trained model\n",
    "coef = pd.Series(lr.coef_[0], index=X.columns)\n",
    "\n",
    "# Top 10 by absolute value\n",
    "top10 = coef.abs().sort_values(ascending=False).head(10)\n",
    "print(\"Top 10 features by absolute coefficient (abs):\\n\", top10)\n",
    "\n",
    "# And their signed impact\n",
    "print(\"\\nSigned coefficients (positive → higher PD, negative → lower PD):\")\n",
    "print(coef[top10.index])\n"
   ]
  },
  {
   "cell_type": "code",
   "execution_count": null,
   "metadata": {},
   "outputs": [],
   "source": []
  },
  {
   "cell_type": "code",
   "execution_count": 7,
   "metadata": {},
   "outputs": [
    {
     "name": "stdout",
     "output_type": "stream",
     "text": [
      "Keeping 86 features, dropping 44 low-impact features.\n"
     ]
    }
   ],
   "source": [
    "# ─── Cell 7: IDENTIFY HIGH-IMPACT FEATURES ─────────────────────────────────────\n",
    "import pandas as pd\n",
    "\n",
    "# Reuse the trained model and coefficient series from before\n",
    "coef = pd.Series(lr.coef_[0], index=X.columns)\n",
    "\n",
    "# Threshold for “low impact”\n",
    "thresh = 0.05\n",
    "high_imp = coef.abs()[coef.abs() >= thresh].index.tolist()\n",
    "low_imp  = coef.abs()[coef.abs() <  thresh].index.tolist()\n",
    "\n",
    "print(f\"Keeping {len(high_imp)} features, dropping {len(low_imp)} low-impact features.\")\n"
   ]
  },
  {
   "cell_type": "code",
   "execution_count": 8,
   "metadata": {},
   "outputs": [
    {
     "name": "stdout",
     "output_type": "stream",
     "text": [
      "Retrained logistic on high-impact features only.\n"
     ]
    }
   ],
   "source": [
    "# ─── Cell 8: RETRAIN ON HIGH-IMPACT ONLY ────────────────────────────────────────\n",
    "# Subset train/test\n",
    "X_train_hi = X_train[high_imp]\n",
    "X_test_hi  = X_test[high_imp]\n",
    "\n",
    "# Retrain Logistic Regression\n",
    "lr_hi = LogisticRegression(max_iter=2000, n_jobs=-1)\n",
    "lr_hi.fit(X_train_hi, y_train)\n",
    "print(\"Retrained logistic on high-impact features only.\")\n"
   ]
  },
  {
   "cell_type": "code",
   "execution_count": 9,
   "metadata": {},
   "outputs": [
    {
     "name": "stdout",
     "output_type": "stream",
     "text": [
      "Refined model metrics at threshold 0.20:\n",
      " Accuracy:  0.8273171422189096\n",
      " Precision: 0.3612388305717012\n",
      " Recall:    0.4242990336769526\n",
      " F1 Score:  0.39023780702096916\n",
      " ROC-AUC:   0.7659678712320432\n"
     ]
    }
   ],
   "source": [
    "# ─── Cell 9: EVALUATE REFINED MODEL ─────────────────────────────────────────────\n",
    "# Predict & score\n",
    "y_prob_hi = lr_hi.predict_proba(X_test_hi)[:, 1]\n",
    "y_pred_hi = (y_prob_hi >= 0.20).astype(int)\n",
    "\n",
    "from sklearn.metrics import precision_score, recall_score, accuracy_score, f1_score, roc_auc_score\n",
    "print(\"Refined model metrics at threshold 0.20:\")\n",
    "print(\" Accuracy: \", accuracy_score(y_test, y_pred_hi))\n",
    "print(\" Precision:\", precision_score(y_test, y_pred_hi))\n",
    "print(\" Recall:   \", recall_score(y_test, y_pred_hi))\n",
    "print(\" F1 Score: \", f1_score(y_test, y_pred_hi))\n",
    "print(\" ROC-AUC:  \", roc_auc_score(y_test, y_prob_hi))\n"
   ]
  },
  {
   "cell_type": "code",
   "execution_count": 10,
   "metadata": {},
   "outputs": [
    {
     "name": "stdout",
     "output_type": "stream",
     "text": [
      "Best threshold = 0.18 → F1 = 0.3922\n"
     ]
    }
   ],
   "source": [
    "# ─── Cell 10: FIND BEST THRESHOLD FOR MAX F1 ───────────────────────────────────\n",
    "import numpy as np\n",
    "from sklearn.metrics import f1_score\n",
    "\n",
    "# Use the original probabilities from lr (all features) or lr_hi (pruned)? \n",
    "# Let’s use the pruned model’s probs (y_prob_hi) for consistency.\n",
    "probs = y_prob_hi  \n",
    "\n",
    "thresholds = np.linspace(0.01, 0.99, 99)\n",
    "f1_scores = [f1_score(y_test, (probs >= t).astype(int)) for t in thresholds]\n",
    "\n",
    "best_idx = np.argmax(f1_scores)\n",
    "best_t   = thresholds[best_idx]\n",
    "best_f1  = f1_scores[best_idx]\n",
    "\n",
    "print(f\"Best threshold = {best_t:.2f} → F1 = {best_f1:.4f}\")\n"
   ]
  },
  {
   "cell_type": "code",
   "execution_count": 11,
   "metadata": {},
   "outputs": [
    {
     "name": "stdout",
     "output_type": "stream",
     "text": [
      "Decision Tree (threshold=0.5) metrics:\n",
      " Accuracy:   0.8063082091648401\n",
      " Precision:  0.27810001082703045\n",
      " Recall:     0.3053512898459657\n",
      " F1 Score:   0.2910892371454475\n",
      " ROC-AUC:    0.593334194780837\n"
     ]
    }
   ],
   "source": [
    "# ─── Cell 11: DECISION TREE ─────────────────────────────────────────────────────\n",
    "from sklearn.tree import DecisionTreeClassifier\n",
    "from sklearn.metrics import accuracy_score, precision_score, recall_score, f1_score, roc_auc_score\n",
    "\n",
    "# 1. Initialize & train\n",
    "dt = DecisionTreeClassifier(random_state=42)\n",
    "dt.fit(X_train, y_train)\n",
    "\n",
    "# 2. Predict & score on test set\n",
    "y_prob_dt = dt.predict_proba(X_test)[:, 1]\n",
    "y_pred_dt = dt.predict(X_test)\n",
    "\n",
    "print(\"Decision Tree (threshold=0.5) metrics:\")\n",
    "print(\" Accuracy:  \", accuracy_score(y_test, y_pred_dt))\n",
    "print(\" Precision: \", precision_score(y_test, y_pred_dt))\n",
    "print(\" Recall:    \", recall_score(y_test, y_pred_dt))\n",
    "print(\" F1 Score:  \", f1_score(y_test, y_pred_dt))\n",
    "print(\" ROC-AUC:   \", roc_auc_score(y_test, y_prob_dt))\n"
   ]
  },
  {
   "cell_type": "code",
   "execution_count": 12,
   "metadata": {},
   "outputs": [
    {
     "name": "stdout",
     "output_type": "stream",
     "text": [
      "Random Forest (threshold=0.5) metrics:\n",
      " Accuracy:   0.8851840465695435\n",
      " Precision:  0.9550796552624706\n",
      " Recall:     0.12421242124212421\n",
      " F1 Score:   0.21983438782104267\n",
      " ROC-AUC:    0.7660841184894907\n"
     ]
    }
   ],
   "source": [
    "# ─── Cell 12: RANDOM FOREST ────────────────────────────────────────────────────\n",
    "from sklearn.ensemble import RandomForestClassifier\n",
    "from sklearn.metrics import accuracy_score, precision_score, recall_score, f1_score, roc_auc_score\n",
    "\n",
    "# 1. Initialize & train\n",
    "rf = RandomForestClassifier(\n",
    "    n_estimators=100,\n",
    "    max_depth=None,\n",
    "    random_state=42,\n",
    "    n_jobs=-1\n",
    ")\n",
    "rf.fit(X_train, y_train)\n",
    "\n",
    "# 2. Predict & score\n",
    "y_prob_rf = rf.predict_proba(X_test)[:, 1]\n",
    "y_pred_rf = rf.predict(X_test)\n",
    "\n",
    "print(\"Random Forest (threshold=0.5) metrics:\")\n",
    "print(\" Accuracy:  \", accuracy_score(y_test, y_pred_rf))\n",
    "print(\" Precision: \", precision_score(y_test, y_pred_rf))\n",
    "print(\" Recall:    \", recall_score(y_test, y_pred_rf))\n",
    "print(\" F1 Score:  \", f1_score(y_test, y_pred_rf))\n",
    "print(\" ROC-AUC:   \", roc_auc_score(y_test, y_prob_rf))\n"
   ]
  },
  {
   "cell_type": "markdown",
   "metadata": {},
   "source": []
  },
  {
   "cell_type": "code",
   "execution_count": 13,
   "metadata": {},
   "outputs": [
    {
     "name": "stderr",
     "output_type": "stream",
     "text": [
      "/Users/yessir/Desktop/Recent_fintech_platform_project/venv/lib/python3.12/site-packages/xgboost/training.py:183: UserWarning: [05:12:57] WARNING: /Users/runner/work/xgboost/xgboost/src/learner.cc:738: \n",
      "Parameters: { \"use_label_encoder\" } are not used.\n",
      "\n",
      "  bst.update(dtrain, iteration=i, fobj=obj)\n"
     ]
    },
    {
     "name": "stdout",
     "output_type": "stream",
     "text": [
      "XGBoost (threshold=0.5) metrics:\n",
      " Accuracy:   0.8854538739021677\n",
      " Precision:  0.8970884658454648\n",
      " Recall:     0.13604945400200397\n",
      " F1 Score:   0.2362673823603144\n",
      " ROC-AUC:    0.7879423486449176\n"
     ]
    }
   ],
   "source": [
    "# ─── Cell 13: XGBOOST ──────────────────────────────────────────────────────────\n",
    "import xgboost as xgb\n",
    "from sklearn.metrics import accuracy_score, precision_score, recall_score, f1_score, roc_auc_score\n",
    "\n",
    "# 1. Initialize & train\n",
    "xgb_clf = xgb.XGBClassifier(\n",
    "    n_estimators=100,\n",
    "    use_label_encoder=False,\n",
    "    eval_metric=\"logloss\",\n",
    "    random_state=42,\n",
    "    n_jobs=-1\n",
    ")\n",
    "xgb_clf.fit(X_train, y_train)\n",
    "\n",
    "# 2. Predict & score\n",
    "y_prob_xgb = xgb_clf.predict_proba(X_test)[:, 1]\n",
    "y_pred_xgb = xgb_clf.predict(X_test)\n",
    "\n",
    "print(\"XGBoost (threshold=0.5) metrics:\")\n",
    "print(\" Accuracy:  \", accuracy_score(y_test, y_pred_xgb))\n",
    "print(\" Precision: \", precision_score(y_test, y_pred_xgb))\n",
    "print(\" Recall:    \", recall_score(y_test, y_pred_xgb))\n",
    "print(\" F1 Score:  \", f1_score(y_test, y_pred_xgb))\n",
    "print(\" ROC-AUC:   \", roc_auc_score(y_test, y_prob_xgb))\n"
   ]
  },
  {
   "cell_type": "code",
   "execution_count": 14,
   "metadata": {},
   "outputs": [
    {
     "name": "stdout",
     "output_type": "stream",
     "text": [
      "Thresh  Precision   Recall    F1\n",
      " 0.10     0.2280     0.8141     0.3562\n",
      " 0.15     0.2847     0.6533     0.3966\n",
      " 0.20     0.3469     0.5084     0.4124\n",
      " 0.25     0.4168     0.3889     0.4024\n",
      " 0.30     0.4933     0.2962     0.3701\n",
      " 0.35     0.5878     0.2287     0.3293\n",
      " 0.40     0.6979     0.1828     0.2898\n",
      " 0.45     0.8115     0.1533     0.2578\n",
      " 0.50     0.8971     0.1360     0.2363\n",
      " 0.55     0.9528     0.1263     0.2230\n",
      " 0.60     0.9811     0.1215     0.2163\n",
      " 0.65     0.9929     0.1196     0.2134\n",
      " 0.70     0.9972     0.1191     0.2127\n",
      " 0.75     0.9986     0.1188     0.2123\n",
      " 0.80     0.9989     0.1186     0.2121\n",
      " 0.85     0.9990     0.1185     0.2118\n"
     ]
    }
   ],
   "source": [
    "# ─── Cell 14: THRESHOLD TUNING FOR XGBOOST ──────────────────────────────────────\n",
    "import numpy as np\n",
    "from sklearn.metrics import precision_score, recall_score, f1_score\n",
    "\n",
    "# y_prob_xgb from Cell 13\n",
    "thresholds = np.arange(0.1, 0.9, 0.05)\n",
    "print(\"Thresh  Precision   Recall    F1\")\n",
    "for t in thresholds:\n",
    "    preds_t = (y_prob_xgb >= t).astype(int)\n",
    "    p = precision_score(y_test, preds_t)\n",
    "    r = recall_score(y_test, preds_t)\n",
    "    f = f1_score(y_test, preds_t)\n",
    "    print(f\"{t:>5.2f}   {p:>8.4f}   {r:>8.4f}   {f:>8.4f}\")\n"
   ]
  },
  {
   "cell_type": "code",
   "execution_count": 15,
   "metadata": {},
   "outputs": [
    {
     "name": "stdout",
     "output_type": "stream",
     "text": [
      "XGBoost metrics at threshold = 0.20:\n",
      "  Accuracy:  0.811311073315625\n",
      "  Precision: 0.3468709083114144\n",
      "  Recall:    0.508398009612282\n",
      "  F1 Score:  0.4123813590842092\n",
      "  ROC-AUC:   0.7879423486449176\n"
     ]
    }
   ],
   "source": [
    "# ─── Cell 15: EVALUATE XGBOOST @ THRESHOLD 0.20 ────────────────────────────────\n",
    "from sklearn.metrics import accuracy_score, precision_score, recall_score, f1_score, roc_auc_score\n",
    "\n",
    "threshold = 0.20\n",
    "y_pred_xgb_t = (y_prob_xgb >= threshold).astype(int)\n",
    "\n",
    "print(\"XGBoost metrics at threshold = 0.20:\")\n",
    "print(\"  Accuracy: \", accuracy_score(y_test, y_pred_xgb_t))\n",
    "print(\"  Precision:\", precision_score(y_test, y_pred_xgb_t))\n",
    "print(\"  Recall:   \", recall_score(y_test, y_pred_xgb_t))\n",
    "print(\"  F1 Score: \", f1_score(y_test, y_pred_xgb_t))\n",
    "print(\"  ROC-AUC:  \", roc_auc_score(y_test, y_prob_xgb))\n"
   ]
  },
  {
   "cell_type": "code",
   "execution_count": 16,
   "metadata": {},
   "outputs": [
    {
     "name": "stdout",
     "output_type": "stream",
     "text": [
      "Tuning subset shape: (180856, 130)\n"
     ]
    }
   ],
   "source": [
    "# ─── Cell 16: SAMPLE FOR TUNING ─────────────────────────────────────────────────\n",
    "from sklearn.model_selection import train_test_split\n",
    "\n",
    "# 10% stratified sample of train for hyperparam search\n",
    "X_tune, _, y_tune, _ = train_test_split(\n",
    "    X_train, y_train, train_size=0.10, stratify=y_train, random_state=42\n",
    ")\n",
    "print(\"Tuning subset shape:\", X_tune.shape)\n"
   ]
  },
  {
   "cell_type": "code",
   "execution_count": 17,
   "metadata": {},
   "outputs": [
    {
     "name": "stdout",
     "output_type": "stream",
     "text": [
      "Fitting 3 folds for each of 20 candidates, totalling 60 fits\n"
     ]
    },
    {
     "name": "stderr",
     "output_type": "stream",
     "text": [
      "/Users/yessir/Desktop/Recent_fintech_platform_project/venv/lib/python3.12/site-packages/xgboost/training.py:183: UserWarning: [05:17:09] WARNING: /Users/runner/work/xgboost/xgboost/src/learner.cc:738: \n",
      "Parameters: { \"use_label_encoder\" } are not used.\n",
      "\n",
      "  bst.update(dtrain, iteration=i, fobj=obj)\n",
      "/Users/yessir/Desktop/Recent_fintech_platform_project/venv/lib/python3.12/site-packages/xgboost/training.py:183: UserWarning: [05:17:09] WARNING: /Users/runner/work/xgboost/xgboost/src/learner.cc:738: \n",
      "Parameters: { \"use_label_encoder\" } are not used.\n",
      "\n",
      "  bst.update(dtrain, iteration=i, fobj=obj)\n",
      "/Users/yessir/Desktop/Recent_fintech_platform_project/venv/lib/python3.12/site-packages/xgboost/training.py:183: UserWarning: [05:17:09] WARNING: /Users/runner/work/xgboost/xgboost/src/learner.cc:738: \n",
      "Parameters: { \"use_label_encoder\" } are not used.\n",
      "\n",
      "  bst.update(dtrain, iteration=i, fobj=obj)\n",
      "/Users/yessir/Desktop/Recent_fintech_platform_project/venv/lib/python3.12/site-packages/xgboost/training.py:183: UserWarning: [05:17:09] WARNING: /Users/runner/work/xgboost/xgboost/src/learner.cc:738: \n",
      "Parameters: { \"use_label_encoder\" } are not used.\n",
      "\n",
      "  bst.update(dtrain, iteration=i, fobj=obj)\n",
      "/Users/yessir/Desktop/Recent_fintech_platform_project/venv/lib/python3.12/site-packages/xgboost/training.py:183: UserWarning: [05:17:09] WARNING: /Users/runner/work/xgboost/xgboost/src/learner.cc:738: \n",
      "Parameters: { \"use_label_encoder\" } are not used.\n",
      "\n",
      "  bst.update(dtrain, iteration=i, fobj=obj)\n",
      "/Users/yessir/Desktop/Recent_fintech_platform_project/venv/lib/python3.12/site-packages/xgboost/training.py:183: UserWarning: [05:17:09] WARNING: /Users/runner/work/xgboost/xgboost/src/learner.cc:738: \n",
      "Parameters: { \"use_label_encoder\" } are not used.\n",
      "\n",
      "  bst.update(dtrain, iteration=i, fobj=obj)\n",
      "/Users/yessir/Desktop/Recent_fintech_platform_project/venv/lib/python3.12/site-packages/xgboost/training.py:183: UserWarning: [05:17:09] WARNING: /Users/runner/work/xgboost/xgboost/src/learner.cc:738: \n",
      "Parameters: { \"use_label_encoder\" } are not used.\n",
      "\n",
      "  bst.update(dtrain, iteration=i, fobj=obj)\n",
      "/Users/yessir/Desktop/Recent_fintech_platform_project/venv/lib/python3.12/site-packages/xgboost/training.py:183: UserWarning: [05:17:09] WARNING: /Users/runner/work/xgboost/xgboost/src/learner.cc:738: \n",
      "Parameters: { \"use_label_encoder\" } are not used.\n",
      "\n",
      "  bst.update(dtrain, iteration=i, fobj=obj)\n",
      "/Users/yessir/Desktop/Recent_fintech_platform_project/venv/lib/python3.12/site-packages/xgboost/training.py:183: UserWarning: [05:17:09] WARNING: /Users/runner/work/xgboost/xgboost/src/learner.cc:738: \n",
      "Parameters: { \"use_label_encoder\" } are not used.\n",
      "\n",
      "  bst.update(dtrain, iteration=i, fobj=obj)\n",
      "/Users/yessir/Desktop/Recent_fintech_platform_project/venv/lib/python3.12/site-packages/xgboost/training.py:183: UserWarning: [05:17:09] WARNING: /Users/runner/work/xgboost/xgboost/src/learner.cc:738: \n",
      "Parameters: { \"use_label_encoder\" } are not used.\n",
      "\n",
      "  bst.update(dtrain, iteration=i, fobj=obj)\n"
     ]
    },
    {
     "name": "stdout",
     "output_type": "stream",
     "text": [
      "[CV] END colsample_bytree=0.8, learning_rate=0.1, max_depth=7, min_child_weight=5, n_estimators=100, subsample=0.6; total time=   4.8s\n",
      "[CV] END colsample_bytree=0.8, learning_rate=0.1, max_depth=7, min_child_weight=5, n_estimators=100, subsample=0.6; total time=   4.9s\n",
      "[CV] END colsample_bytree=0.8, learning_rate=0.1, max_depth=7, min_child_weight=5, n_estimators=100, subsample=0.6; total time=   4.9s\n"
     ]
    },
    {
     "name": "stderr",
     "output_type": "stream",
     "text": [
      "/Users/yessir/Desktop/Recent_fintech_platform_project/venv/lib/python3.12/site-packages/xgboost/training.py:183: UserWarning: [05:17:14] WARNING: /Users/runner/work/xgboost/xgboost/src/learner.cc:738: \n",
      "Parameters: { \"use_label_encoder\" } are not used.\n",
      "\n",
      "  bst.update(dtrain, iteration=i, fobj=obj)\n",
      "/Users/yessir/Desktop/Recent_fintech_platform_project/venv/lib/python3.12/site-packages/xgboost/training.py:183: UserWarning: [05:17:14] WARNING: /Users/runner/work/xgboost/xgboost/src/learner.cc:738: \n",
      "Parameters: { \"use_label_encoder\" } are not used.\n",
      "\n",
      "  bst.update(dtrain, iteration=i, fobj=obj)\n",
      "/Users/yessir/Desktop/Recent_fintech_platform_project/venv/lib/python3.12/site-packages/xgboost/training.py:183: UserWarning: [05:17:14] WARNING: /Users/runner/work/xgboost/xgboost/src/learner.cc:738: \n",
      "Parameters: { \"use_label_encoder\" } are not used.\n",
      "\n",
      "  bst.update(dtrain, iteration=i, fobj=obj)\n"
     ]
    },
    {
     "name": "stdout",
     "output_type": "stream",
     "text": [
      "[CV] END colsample_bytree=0.8, learning_rate=0.05, max_depth=5, min_child_weight=1, n_estimators=200, subsample=0.8; total time=   6.6s\n"
     ]
    },
    {
     "name": "stderr",
     "output_type": "stream",
     "text": [
      "/Users/yessir/Desktop/Recent_fintech_platform_project/venv/lib/python3.12/site-packages/xgboost/training.py:183: UserWarning: [05:17:16] WARNING: /Users/runner/work/xgboost/xgboost/src/learner.cc:738: \n",
      "Parameters: { \"use_label_encoder\" } are not used.\n",
      "\n",
      "  bst.update(dtrain, iteration=i, fobj=obj)\n"
     ]
    },
    {
     "name": "stdout",
     "output_type": "stream",
     "text": [
      "[CV] END colsample_bytree=0.6, learning_rate=0.05, max_depth=7, min_child_weight=5, n_estimators=200, subsample=0.8; total time=   8.0s\n",
      "[CV] END colsample_bytree=0.6, learning_rate=0.05, max_depth=7, min_child_weight=5, n_estimators=200, subsample=0.8; total time=   8.1s\n",
      "[CV] END colsample_bytree=0.6, learning_rate=0.05, max_depth=7, min_child_weight=5, n_estimators=200, subsample=0.8; total time=   8.2s\n"
     ]
    },
    {
     "name": "stderr",
     "output_type": "stream",
     "text": [
      "/Users/yessir/Desktop/Recent_fintech_platform_project/venv/lib/python3.12/site-packages/xgboost/training.py:183: UserWarning: [05:17:17] WARNING: /Users/runner/work/xgboost/xgboost/src/learner.cc:738: \n",
      "Parameters: { \"use_label_encoder\" } are not used.\n",
      "\n",
      "  bst.update(dtrain, iteration=i, fobj=obj)\n",
      "/Users/yessir/Desktop/Recent_fintech_platform_project/venv/lib/python3.12/site-packages/xgboost/training.py:183: UserWarning: [05:17:17] WARNING: /Users/runner/work/xgboost/xgboost/src/learner.cc:738: \n",
      "Parameters: { \"use_label_encoder\" } are not used.\n",
      "\n",
      "  bst.update(dtrain, iteration=i, fobj=obj)\n",
      "/Users/yessir/Desktop/Recent_fintech_platform_project/venv/lib/python3.12/site-packages/xgboost/training.py:183: UserWarning: [05:17:17] WARNING: /Users/runner/work/xgboost/xgboost/src/learner.cc:738: \n",
      "Parameters: { \"use_label_encoder\" } are not used.\n",
      "\n",
      "  bst.update(dtrain, iteration=i, fobj=obj)\n"
     ]
    },
    {
     "name": "stdout",
     "output_type": "stream",
     "text": [
      "[CV] END colsample_bytree=1.0, learning_rate=0.01, max_depth=5, min_child_weight=1, n_estimators=100, subsample=1.0; total time=   4.2s\n",
      "[CV] END colsample_bytree=0.8, learning_rate=0.01, max_depth=7, min_child_weight=1, n_estimators=200, subsample=1.0; total time=   9.5s\n",
      "[CV] END colsample_bytree=0.8, learning_rate=0.01, max_depth=7, min_child_weight=1, n_estimators=200, subsample=1.0; total time=   9.7s\n",
      "[CV] END colsample_bytree=0.8, learning_rate=0.01, max_depth=7, min_child_weight=1, n_estimators=200, subsample=1.0; total time=   9.7s\n"
     ]
    },
    {
     "name": "stderr",
     "output_type": "stream",
     "text": [
      "/Users/yessir/Desktop/Recent_fintech_platform_project/venv/lib/python3.12/site-packages/xgboost/training.py:183: UserWarning: [05:17:18] WARNING: /Users/runner/work/xgboost/xgboost/src/learner.cc:738: \n",
      "Parameters: { \"use_label_encoder\" } are not used.\n",
      "\n",
      "  bst.update(dtrain, iteration=i, fobj=obj)\n",
      "/Users/yessir/Desktop/Recent_fintech_platform_project/venv/lib/python3.12/site-packages/xgboost/training.py:183: UserWarning: [05:17:18] WARNING: /Users/runner/work/xgboost/xgboost/src/learner.cc:738: \n",
      "Parameters: { \"use_label_encoder\" } are not used.\n",
      "\n",
      "  bst.update(dtrain, iteration=i, fobj=obj)\n",
      "/Users/yessir/Desktop/Recent_fintech_platform_project/venv/lib/python3.12/site-packages/xgboost/training.py:183: UserWarning: [05:17:18] WARNING: /Users/runner/work/xgboost/xgboost/src/learner.cc:738: \n",
      "Parameters: { \"use_label_encoder\" } are not used.\n",
      "\n",
      "  bst.update(dtrain, iteration=i, fobj=obj)\n",
      "/Users/yessir/Desktop/Recent_fintech_platform_project/venv/lib/python3.12/site-packages/xgboost/training.py:183: UserWarning: [05:17:18] WARNING: /Users/runner/work/xgboost/xgboost/src/learner.cc:738: \n",
      "Parameters: { \"use_label_encoder\" } are not used.\n",
      "\n",
      "  bst.update(dtrain, iteration=i, fobj=obj)\n"
     ]
    },
    {
     "name": "stdout",
     "output_type": "stream",
     "text": [
      "[CV] END colsample_bytree=1.0, learning_rate=0.01, max_depth=5, min_child_weight=1, n_estimators=100, subsample=1.0; total time=   4.2s\n",
      "[CV] END colsample_bytree=0.8, learning_rate=0.05, max_depth=5, min_child_weight=1, n_estimators=200, subsample=0.8; total time=   6.4s\n",
      "[CV] END colsample_bytree=0.8, learning_rate=0.05, max_depth=5, min_child_weight=1, n_estimators=200, subsample=0.8; total time=   6.3s\n",
      "[CV] END colsample_bytree=1.0, learning_rate=0.01, max_depth=5, min_child_weight=1, n_estimators=100, subsample=1.0; total time=   4.1s\n"
     ]
    },
    {
     "name": "stderr",
     "output_type": "stream",
     "text": [
      "/Users/yessir/Desktop/Recent_fintech_platform_project/venv/lib/python3.12/site-packages/xgboost/training.py:183: UserWarning: [05:17:20] WARNING: /Users/runner/work/xgboost/xgboost/src/learner.cc:738: \n",
      "Parameters: { \"use_label_encoder\" } are not used.\n",
      "\n",
      "  bst.update(dtrain, iteration=i, fobj=obj)\n",
      "/Users/yessir/Desktop/Recent_fintech_platform_project/venv/lib/python3.12/site-packages/xgboost/training.py:183: UserWarning: [05:17:20] WARNING: /Users/runner/work/xgboost/xgboost/src/learner.cc:738: \n",
      "Parameters: { \"use_label_encoder\" } are not used.\n",
      "\n",
      "  bst.update(dtrain, iteration=i, fobj=obj)\n",
      "/Users/yessir/Desktop/Recent_fintech_platform_project/venv/lib/python3.12/site-packages/xgboost/training.py:183: UserWarning: [05:17:20] WARNING: /Users/runner/work/xgboost/xgboost/src/learner.cc:738: \n",
      "Parameters: { \"use_label_encoder\" } are not used.\n",
      "\n",
      "  bst.update(dtrain, iteration=i, fobj=obj)\n",
      "/Users/yessir/Desktop/Recent_fintech_platform_project/venv/lib/python3.12/site-packages/xgboost/training.py:183: UserWarning: [05:17:21] WARNING: /Users/runner/work/xgboost/xgboost/src/learner.cc:738: \n",
      "Parameters: { \"use_label_encoder\" } are not used.\n",
      "\n",
      "  bst.update(dtrain, iteration=i, fobj=obj)\n"
     ]
    },
    {
     "name": "stdout",
     "output_type": "stream",
     "text": [
      "[CV] END colsample_bytree=0.8, learning_rate=0.01, max_depth=3, min_child_weight=10, n_estimators=200, subsample=1.0; total time=   4.9s\n",
      "[CV] END colsample_bytree=0.8, learning_rate=0.01, max_depth=3, min_child_weight=10, n_estimators=200, subsample=1.0; total time=   4.8s\n",
      "[CV] END colsample_bytree=0.8, learning_rate=0.01, max_depth=3, min_child_weight=10, n_estimators=200, subsample=1.0; total time=   4.5s\n"
     ]
    },
    {
     "name": "stderr",
     "output_type": "stream",
     "text": [
      "/Users/yessir/Desktop/Recent_fintech_platform_project/venv/lib/python3.12/site-packages/xgboost/training.py:183: UserWarning: [05:17:22] WARNING: /Users/runner/work/xgboost/xgboost/src/learner.cc:738: \n",
      "Parameters: { \"use_label_encoder\" } are not used.\n",
      "\n",
      "  bst.update(dtrain, iteration=i, fobj=obj)\n",
      "/Users/yessir/Desktop/Recent_fintech_platform_project/venv/lib/python3.12/site-packages/xgboost/training.py:183: UserWarning: [05:17:22] WARNING: /Users/runner/work/xgboost/xgboost/src/learner.cc:738: \n",
      "Parameters: { \"use_label_encoder\" } are not used.\n",
      "\n",
      "  bst.update(dtrain, iteration=i, fobj=obj)\n"
     ]
    },
    {
     "name": "stdout",
     "output_type": "stream",
     "text": [
      "[CV] END colsample_bytree=0.6, learning_rate=0.05, max_depth=3, min_child_weight=1, n_estimators=100, subsample=0.6; total time=   2.9s\n",
      "[CV] END colsample_bytree=0.6, learning_rate=0.05, max_depth=3, min_child_weight=1, n_estimators=100, subsample=0.6; total time=   2.9s\n",
      "[CV] END colsample_bytree=0.6, learning_rate=0.05, max_depth=3, min_child_weight=1, n_estimators=100, subsample=0.6; total time=   3.0s\n",
      "[CV] END colsample_bytree=0.6, learning_rate=0.01, max_depth=7, min_child_weight=10, n_estimators=100, subsample=0.6; total time=   5.0s\n",
      "[CV] END colsample_bytree=0.6, learning_rate=0.01, max_depth=7, min_child_weight=10, n_estimators=100, subsample=0.6; total time=   4.9s\n",
      "[CV] END colsample_bytree=0.6, learning_rate=0.01, max_depth=7, min_child_weight=10, n_estimators=100, subsample=0.6; total time=   5.1s\n"
     ]
    },
    {
     "name": "stderr",
     "output_type": "stream",
     "text": [
      "/Users/yessir/Desktop/Recent_fintech_platform_project/venv/lib/python3.12/site-packages/xgboost/training.py:183: UserWarning: [05:17:22] WARNING: /Users/runner/work/xgboost/xgboost/src/learner.cc:738: \n",
      "Parameters: { \"use_label_encoder\" } are not used.\n",
      "\n",
      "  bst.update(dtrain, iteration=i, fobj=obj)\n",
      "/Users/yessir/Desktop/Recent_fintech_platform_project/venv/lib/python3.12/site-packages/xgboost/training.py:183: UserWarning: [05:17:23] WARNING: /Users/runner/work/xgboost/xgboost/src/learner.cc:738: \n",
      "Parameters: { \"use_label_encoder\" } are not used.\n",
      "\n",
      "  bst.update(dtrain, iteration=i, fobj=obj)\n",
      "/Users/yessir/Desktop/Recent_fintech_platform_project/venv/lib/python3.12/site-packages/xgboost/training.py:183: UserWarning: [05:17:23] WARNING: /Users/runner/work/xgboost/xgboost/src/learner.cc:738: \n",
      "Parameters: { \"use_label_encoder\" } are not used.\n",
      "\n",
      "  bst.update(dtrain, iteration=i, fobj=obj)\n",
      "/Users/yessir/Desktop/Recent_fintech_platform_project/venv/lib/python3.12/site-packages/xgboost/training.py:183: UserWarning: [05:17:23] WARNING: /Users/runner/work/xgboost/xgboost/src/learner.cc:738: \n",
      "Parameters: { \"use_label_encoder\" } are not used.\n",
      "\n",
      "  bst.update(dtrain, iteration=i, fobj=obj)\n",
      "/Users/yessir/Desktop/Recent_fintech_platform_project/venv/lib/python3.12/site-packages/xgboost/training.py:183: UserWarning: [05:17:23] WARNING: /Users/runner/work/xgboost/xgboost/src/learner.cc:738: \n",
      "Parameters: { \"use_label_encoder\" } are not used.\n",
      "\n",
      "  bst.update(dtrain, iteration=i, fobj=obj)\n",
      "/Users/yessir/Desktop/Recent_fintech_platform_project/venv/lib/python3.12/site-packages/xgboost/training.py:183: UserWarning: [05:17:23] WARNING: /Users/runner/work/xgboost/xgboost/src/learner.cc:738: \n",
      "Parameters: { \"use_label_encoder\" } are not used.\n",
      "\n",
      "  bst.update(dtrain, iteration=i, fobj=obj)\n",
      "/Users/yessir/Desktop/Recent_fintech_platform_project/venv/lib/python3.12/site-packages/xgboost/training.py:183: UserWarning: [05:17:24] WARNING: /Users/runner/work/xgboost/xgboost/src/learner.cc:738: \n",
      "Parameters: { \"use_label_encoder\" } are not used.\n",
      "\n",
      "  bst.update(dtrain, iteration=i, fobj=obj)\n"
     ]
    },
    {
     "name": "stdout",
     "output_type": "stream",
     "text": [
      "[CV] END colsample_bytree=0.8, learning_rate=0.05, max_depth=3, min_child_weight=10, n_estimators=100, subsample=0.6; total time=   2.8s\n",
      "[CV] END colsample_bytree=0.8, learning_rate=0.05, max_depth=3, min_child_weight=10, n_estimators=100, subsample=0.6; total time=   2.8s\n",
      "[CV] END colsample_bytree=0.8, learning_rate=0.05, max_depth=3, min_child_weight=10, n_estimators=100, subsample=1.0; total time=   2.6s\n",
      "[CV] END colsample_bytree=0.8, learning_rate=0.05, max_depth=3, min_child_weight=10, n_estimators=100, subsample=1.0; total time=   2.7s\n",
      "[CV] END colsample_bytree=0.8, learning_rate=0.05, max_depth=3, min_child_weight=10, n_estimators=100, subsample=1.0; total time=   2.7s\n"
     ]
    },
    {
     "name": "stderr",
     "output_type": "stream",
     "text": [
      "/Users/yessir/Desktop/Recent_fintech_platform_project/venv/lib/python3.12/site-packages/xgboost/training.py:183: UserWarning: [05:17:25] WARNING: /Users/runner/work/xgboost/xgboost/src/learner.cc:738: \n",
      "Parameters: { \"use_label_encoder\" } are not used.\n",
      "\n",
      "  bst.update(dtrain, iteration=i, fobj=obj)\n"
     ]
    },
    {
     "name": "stdout",
     "output_type": "stream",
     "text": [
      "[CV] END colsample_bytree=0.8, learning_rate=0.05, max_depth=3, min_child_weight=10, n_estimators=100, subsample=0.6; total time=   3.1s\n"
     ]
    },
    {
     "name": "stderr",
     "output_type": "stream",
     "text": [
      "/Users/yessir/Desktop/Recent_fintech_platform_project/venv/lib/python3.12/site-packages/xgboost/training.py:183: UserWarning: [05:17:26] WARNING: /Users/runner/work/xgboost/xgboost/src/learner.cc:738: \n",
      "Parameters: { \"use_label_encoder\" } are not used.\n",
      "\n",
      "  bst.update(dtrain, iteration=i, fobj=obj)\n",
      "/Users/yessir/Desktop/Recent_fintech_platform_project/venv/lib/python3.12/site-packages/xgboost/training.py:183: UserWarning: [05:17:26] WARNING: /Users/runner/work/xgboost/xgboost/src/learner.cc:738: \n",
      "Parameters: { \"use_label_encoder\" } are not used.\n",
      "\n",
      "  bst.update(dtrain, iteration=i, fobj=obj)\n",
      "/Users/yessir/Desktop/Recent_fintech_platform_project/venv/lib/python3.12/site-packages/xgboost/training.py:183: UserWarning: [05:17:26] WARNING: /Users/runner/work/xgboost/xgboost/src/learner.cc:738: \n",
      "Parameters: { \"use_label_encoder\" } are not used.\n",
      "\n",
      "  bst.update(dtrain, iteration=i, fobj=obj)\n",
      "/Users/yessir/Desktop/Recent_fintech_platform_project/venv/lib/python3.12/site-packages/xgboost/training.py:183: UserWarning: [05:17:26] WARNING: /Users/runner/work/xgboost/xgboost/src/learner.cc:738: \n",
      "Parameters: { \"use_label_encoder\" } are not used.\n",
      "\n",
      "  bst.update(dtrain, iteration=i, fobj=obj)\n",
      "/Users/yessir/Desktop/Recent_fintech_platform_project/venv/lib/python3.12/site-packages/xgboost/training.py:183: UserWarning: [05:17:26] WARNING: /Users/runner/work/xgboost/xgboost/src/learner.cc:738: \n",
      "Parameters: { \"use_label_encoder\" } are not used.\n",
      "\n",
      "  bst.update(dtrain, iteration=i, fobj=obj)\n"
     ]
    },
    {
     "name": "stdout",
     "output_type": "stream",
     "text": [
      "[CV] END colsample_bytree=0.8, learning_rate=0.1, max_depth=5, min_child_weight=1, n_estimators=100, subsample=0.8; total time=   3.4s\n"
     ]
    },
    {
     "name": "stderr",
     "output_type": "stream",
     "text": [
      "/Users/yessir/Desktop/Recent_fintech_platform_project/venv/lib/python3.12/site-packages/xgboost/training.py:183: UserWarning: [05:17:30] WARNING: /Users/runner/work/xgboost/xgboost/src/learner.cc:738: \n",
      "Parameters: { \"use_label_encoder\" } are not used.\n",
      "\n",
      "  bst.update(dtrain, iteration=i, fobj=obj)\n"
     ]
    },
    {
     "name": "stdout",
     "output_type": "stream",
     "text": [
      "[CV] END colsample_bytree=0.6, learning_rate=0.05, max_depth=5, min_child_weight=10, n_estimators=500, subsample=0.8; total time=  12.3s\n",
      "[CV] END colsample_bytree=0.8, learning_rate=0.1, max_depth=5, min_child_weight=1, n_estimators=100, subsample=0.8; total time=   3.4s\n"
     ]
    },
    {
     "name": "stderr",
     "output_type": "stream",
     "text": [
      "/Users/yessir/Desktop/Recent_fintech_platform_project/venv/lib/python3.12/site-packages/xgboost/training.py:183: UserWarning: [05:17:33] WARNING: /Users/runner/work/xgboost/xgboost/src/learner.cc:738: \n",
      "Parameters: { \"use_label_encoder\" } are not used.\n",
      "\n",
      "  bst.update(dtrain, iteration=i, fobj=obj)\n"
     ]
    },
    {
     "name": "stdout",
     "output_type": "stream",
     "text": [
      "[CV] END colsample_bytree=0.6, learning_rate=0.05, max_depth=5, min_child_weight=10, n_estimators=500, subsample=0.8; total time=  12.4s\n",
      "[CV] END colsample_bytree=0.6, learning_rate=0.05, max_depth=5, min_child_weight=10, n_estimators=500, subsample=0.8; total time=  12.4s\n"
     ]
    },
    {
     "name": "stderr",
     "output_type": "stream",
     "text": [
      "/Users/yessir/Desktop/Recent_fintech_platform_project/venv/lib/python3.12/site-packages/xgboost/training.py:183: UserWarning: [05:17:33] WARNING: /Users/runner/work/xgboost/xgboost/src/learner.cc:738: \n",
      "Parameters: { \"use_label_encoder\" } are not used.\n",
      "\n",
      "  bst.update(dtrain, iteration=i, fobj=obj)\n",
      "/Users/yessir/Desktop/Recent_fintech_platform_project/venv/lib/python3.12/site-packages/xgboost/training.py:183: UserWarning: [05:17:34] WARNING: /Users/runner/work/xgboost/xgboost/src/learner.cc:738: \n",
      "Parameters: { \"use_label_encoder\" } are not used.\n",
      "\n",
      "  bst.update(dtrain, iteration=i, fobj=obj)\n",
      "/Users/yessir/Desktop/Recent_fintech_platform_project/venv/lib/python3.12/site-packages/xgboost/training.py:183: UserWarning: [05:17:34] WARNING: /Users/runner/work/xgboost/xgboost/src/learner.cc:738: \n",
      "Parameters: { \"use_label_encoder\" } are not used.\n",
      "\n",
      "  bst.update(dtrain, iteration=i, fobj=obj)\n"
     ]
    },
    {
     "name": "stdout",
     "output_type": "stream",
     "text": [
      "[CV] END colsample_bytree=0.8, learning_rate=0.1, max_depth=5, min_child_weight=1, n_estimators=100, subsample=0.8; total time=   3.4s\n"
     ]
    },
    {
     "name": "stderr",
     "output_type": "stream",
     "text": [
      "/Users/yessir/Desktop/Recent_fintech_platform_project/venv/lib/python3.12/site-packages/xgboost/training.py:183: UserWarning: [05:17:36] WARNING: /Users/runner/work/xgboost/xgboost/src/learner.cc:738: \n",
      "Parameters: { \"use_label_encoder\" } are not used.\n",
      "\n",
      "  bst.update(dtrain, iteration=i, fobj=obj)\n"
     ]
    },
    {
     "name": "stdout",
     "output_type": "stream",
     "text": [
      "[CV] END colsample_bytree=1.0, learning_rate=0.1, max_depth=7, min_child_weight=1, n_estimators=500, subsample=0.8; total time=  16.2s\n"
     ]
    },
    {
     "name": "stderr",
     "output_type": "stream",
     "text": [
      "/Users/yessir/Desktop/Recent_fintech_platform_project/venv/lib/python3.12/site-packages/xgboost/training.py:183: UserWarning: [05:17:40] WARNING: /Users/runner/work/xgboost/xgboost/src/learner.cc:738: \n",
      "Parameters: { \"use_label_encoder\" } are not used.\n",
      "\n",
      "  bst.update(dtrain, iteration=i, fobj=obj)\n"
     ]
    },
    {
     "name": "stdout",
     "output_type": "stream",
     "text": [
      "[CV] END colsample_bytree=0.6, learning_rate=0.05, max_depth=3, min_child_weight=1, n_estimators=200, subsample=1.0; total time=   4.6s\n"
     ]
    },
    {
     "name": "stderr",
     "output_type": "stream",
     "text": [
      "/Users/yessir/Desktop/Recent_fintech_platform_project/venv/lib/python3.12/site-packages/xgboost/training.py:183: UserWarning: [05:17:41] WARNING: /Users/runner/work/xgboost/xgboost/src/learner.cc:738: \n",
      "Parameters: { \"use_label_encoder\" } are not used.\n",
      "\n",
      "  bst.update(dtrain, iteration=i, fobj=obj)\n"
     ]
    },
    {
     "name": "stdout",
     "output_type": "stream",
     "text": [
      "[CV] END colsample_bytree=1.0, learning_rate=0.1, max_depth=7, min_child_weight=1, n_estimators=500, subsample=0.8; total time=  16.9s\n",
      "[CV] END colsample_bytree=1.0, learning_rate=0.1, max_depth=7, min_child_weight=1, n_estimators=500, subsample=0.8; total time=  16.7s\n"
     ]
    },
    {
     "name": "stderr",
     "output_type": "stream",
     "text": [
      "/Users/yessir/Desktop/Recent_fintech_platform_project/venv/lib/python3.12/site-packages/xgboost/training.py:183: UserWarning: [05:17:42] WARNING: /Users/runner/work/xgboost/xgboost/src/learner.cc:738: \n",
      "Parameters: { \"use_label_encoder\" } are not used.\n",
      "\n",
      "  bst.update(dtrain, iteration=i, fobj=obj)\n",
      "/Users/yessir/Desktop/Recent_fintech_platform_project/venv/lib/python3.12/site-packages/xgboost/training.py:183: UserWarning: [05:17:42] WARNING: /Users/runner/work/xgboost/xgboost/src/learner.cc:738: \n",
      "Parameters: { \"use_label_encoder\" } are not used.\n",
      "\n",
      "  bst.update(dtrain, iteration=i, fobj=obj)\n"
     ]
    },
    {
     "name": "stdout",
     "output_type": "stream",
     "text": [
      "[CV] END colsample_bytree=0.6, learning_rate=0.01, max_depth=7, min_child_weight=10, n_estimators=500, subsample=0.6; total time=  18.8s\n",
      "[CV] END colsample_bytree=0.6, learning_rate=0.05, max_depth=3, min_child_weight=1, n_estimators=200, subsample=1.0; total time=   4.9s\n",
      "[CV] END colsample_bytree=0.6, learning_rate=0.01, max_depth=7, min_child_weight=10, n_estimators=500, subsample=0.6; total time=  18.8s\n",
      "[CV] END colsample_bytree=0.6, learning_rate=0.01, max_depth=7, min_child_weight=10, n_estimators=500, subsample=0.6; total time=  19.0s\n"
     ]
    },
    {
     "name": "stderr",
     "output_type": "stream",
     "text": [
      "/Users/yessir/Desktop/Recent_fintech_platform_project/venv/lib/python3.12/site-packages/xgboost/training.py:183: UserWarning: [05:17:45] WARNING: /Users/runner/work/xgboost/xgboost/src/learner.cc:738: \n",
      "Parameters: { \"use_label_encoder\" } are not used.\n",
      "\n",
      "  bst.update(dtrain, iteration=i, fobj=obj)\n",
      "/Users/yessir/Desktop/Recent_fintech_platform_project/venv/lib/python3.12/site-packages/xgboost/training.py:183: UserWarning: [05:17:45] WARNING: /Users/runner/work/xgboost/xgboost/src/learner.cc:738: \n",
      "Parameters: { \"use_label_encoder\" } are not used.\n",
      "\n",
      "  bst.update(dtrain, iteration=i, fobj=obj)\n"
     ]
    },
    {
     "name": "stdout",
     "output_type": "stream",
     "text": [
      "[CV] END colsample_bytree=0.6, learning_rate=0.05, max_depth=3, min_child_weight=1, n_estimators=200, subsample=1.0; total time=   4.5s\n",
      "[CV] END colsample_bytree=0.6, learning_rate=0.1, max_depth=5, min_child_weight=5, n_estimators=500, subsample=0.6; total time=  12.5s\n"
     ]
    },
    {
     "name": "stderr",
     "output_type": "stream",
     "text": [
      "/Users/yessir/Desktop/Recent_fintech_platform_project/venv/lib/python3.12/site-packages/xgboost/training.py:183: UserWarning: [05:17:45] WARNING: /Users/runner/work/xgboost/xgboost/src/learner.cc:738: \n",
      "Parameters: { \"use_label_encoder\" } are not used.\n",
      "\n",
      "  bst.update(dtrain, iteration=i, fobj=obj)\n",
      "/Users/yessir/Desktop/Recent_fintech_platform_project/venv/lib/python3.12/site-packages/xgboost/training.py:183: UserWarning: [05:17:45] WARNING: /Users/runner/work/xgboost/xgboost/src/learner.cc:738: \n",
      "Parameters: { \"use_label_encoder\" } are not used.\n",
      "\n",
      "  bst.update(dtrain, iteration=i, fobj=obj)\n",
      "/Users/yessir/Desktop/Recent_fintech_platform_project/venv/lib/python3.12/site-packages/xgboost/training.py:183: UserWarning: [05:17:46] WARNING: /Users/runner/work/xgboost/xgboost/src/learner.cc:738: \n",
      "Parameters: { \"use_label_encoder\" } are not used.\n",
      "\n",
      "  bst.update(dtrain, iteration=i, fobj=obj)\n",
      "/Users/yessir/Desktop/Recent_fintech_platform_project/venv/lib/python3.12/site-packages/xgboost/training.py:183: UserWarning: [05:17:46] WARNING: /Users/runner/work/xgboost/xgboost/src/learner.cc:738: \n",
      "Parameters: { \"use_label_encoder\" } are not used.\n",
      "\n",
      "  bst.update(dtrain, iteration=i, fobj=obj)\n"
     ]
    },
    {
     "name": "stdout",
     "output_type": "stream",
     "text": [
      "[CV] END colsample_bytree=0.6, learning_rate=0.1, max_depth=5, min_child_weight=5, n_estimators=500, subsample=0.6; total time=  12.4s\n",
      "[CV] END colsample_bytree=0.6, learning_rate=0.1, max_depth=5, min_child_weight=5, n_estimators=500, subsample=0.6; total time=  12.5s\n"
     ]
    },
    {
     "name": "stderr",
     "output_type": "stream",
     "text": [
      "/Users/yessir/Desktop/Recent_fintech_platform_project/venv/lib/python3.12/site-packages/xgboost/training.py:183: UserWarning: [05:17:47] WARNING: /Users/runner/work/xgboost/xgboost/src/learner.cc:738: \n",
      "Parameters: { \"use_label_encoder\" } are not used.\n",
      "\n",
      "  bst.update(dtrain, iteration=i, fobj=obj)\n",
      "/Users/yessir/Desktop/Recent_fintech_platform_project/venv/lib/python3.12/site-packages/xgboost/training.py:183: UserWarning: [05:17:47] WARNING: /Users/runner/work/xgboost/xgboost/src/learner.cc:738: \n",
      "Parameters: { \"use_label_encoder\" } are not used.\n",
      "\n",
      "  bst.update(dtrain, iteration=i, fobj=obj)\n"
     ]
    },
    {
     "name": "stdout",
     "output_type": "stream",
     "text": [
      "[CV] END colsample_bytree=1.0, learning_rate=0.05, max_depth=3, min_child_weight=10, n_estimators=100, subsample=1.0; total time=   2.8s\n",
      "[CV] END colsample_bytree=1.0, learning_rate=0.05, max_depth=3, min_child_weight=10, n_estimators=100, subsample=1.0; total time=   3.0s\n",
      "[CV] END colsample_bytree=0.8, learning_rate=0.1, max_depth=7, min_child_weight=1, n_estimators=200, subsample=1.0; total time=   6.6s\n",
      "[CV] END colsample_bytree=0.8, learning_rate=0.1, max_depth=7, min_child_weight=1, n_estimators=200, subsample=1.0; total time=   6.7s\n",
      "[CV] END colsample_bytree=1.0, learning_rate=0.05, max_depth=3, min_child_weight=10, n_estimators=100, subsample=1.0; total time=   2.8s\n"
     ]
    },
    {
     "name": "stderr",
     "output_type": "stream",
     "text": [
      "/Users/yessir/Desktop/Recent_fintech_platform_project/venv/lib/python3.12/site-packages/xgboost/training.py:183: UserWarning: [05:17:49] WARNING: /Users/runner/work/xgboost/xgboost/src/learner.cc:738: \n",
      "Parameters: { \"use_label_encoder\" } are not used.\n",
      "\n",
      "  bst.update(dtrain, iteration=i, fobj=obj)\n",
      "/Users/yessir/Desktop/Recent_fintech_platform_project/venv/lib/python3.12/site-packages/xgboost/training.py:183: UserWarning: [05:17:49] WARNING: /Users/runner/work/xgboost/xgboost/src/learner.cc:738: \n",
      "Parameters: { \"use_label_encoder\" } are not used.\n",
      "\n",
      "  bst.update(dtrain, iteration=i, fobj=obj)\n"
     ]
    },
    {
     "name": "stdout",
     "output_type": "stream",
     "text": [
      "[CV] END colsample_bytree=0.6, learning_rate=0.05, max_depth=5, min_child_weight=5, n_estimators=100, subsample=0.8; total time=   3.5s\n",
      "[CV] END colsample_bytree=0.8, learning_rate=0.1, max_depth=7, min_child_weight=1, n_estimators=200, subsample=1.0; total time=   6.1s\n",
      "[CV] END colsample_bytree=0.6, learning_rate=0.05, max_depth=5, min_child_weight=5, n_estimators=100, subsample=0.8; total time=   3.1s\n",
      "[CV] END colsample_bytree=0.6, learning_rate=0.05, max_depth=5, min_child_weight=5, n_estimators=100, subsample=0.8; total time=   3.1s\n",
      "[CV] END colsample_bytree=0.6, learning_rate=0.01, max_depth=5, min_child_weight=1, n_estimators=500, subsample=0.6; total time=  12.3s\n",
      "[CV] END colsample_bytree=0.6, learning_rate=0.01, max_depth=5, min_child_weight=1, n_estimators=500, subsample=0.6; total time=  12.3s\n",
      "[CV] END colsample_bytree=0.6, learning_rate=0.01, max_depth=5, min_child_weight=1, n_estimators=500, subsample=0.6; total time=  12.3s\n"
     ]
    },
    {
     "name": "stderr",
     "output_type": "stream",
     "text": [
      "/Users/yessir/Desktop/Recent_fintech_platform_project/venv/lib/python3.12/site-packages/xgboost/training.py:183: UserWarning: [05:17:57] WARNING: /Users/runner/work/xgboost/xgboost/src/learner.cc:738: \n",
      "Parameters: { \"use_label_encoder\" } are not used.\n",
      "\n",
      "  bst.update(dtrain, iteration=i, fobj=obj)\n"
     ]
    },
    {
     "name": "stdout",
     "output_type": "stream",
     "text": [
      "Best parameters: {'subsample': 0.8, 'n_estimators': 500, 'min_child_weight': 1, 'max_depth': 7, 'learning_rate': 0.1, 'colsample_bytree': 1.0}\n",
      "Best CV F1 score: 0.2505949725542255\n"
     ]
    }
   ],
   "source": [
    "# ─── Cell 17: RANDOMIZED SEARCH ────────────────────────────────────────────────\n",
    "from sklearn.model_selection import RandomizedSearchCV\n",
    "import xgboost as xgb\n",
    "\n",
    "param_dist = {\n",
    "    'n_estimators':     [100, 200, 500],\n",
    "    'max_depth':        [3, 5, 7],\n",
    "    'learning_rate':    [0.01, 0.05, 0.1],\n",
    "    'subsample':        [0.6, 0.8, 1.0],\n",
    "    'colsample_bytree': [0.6, 0.8, 1.0],\n",
    "    'min_child_weight': [1, 5, 10]\n",
    "}\n",
    "\n",
    "xgb_model = xgb.XGBClassifier(\n",
    "    use_label_encoder=False,\n",
    "    eval_metric=\"logloss\",\n",
    "    random_state=42,\n",
    "    n_jobs=-1\n",
    ")\n",
    "\n",
    "rs = RandomizedSearchCV(\n",
    "    xgb_model,\n",
    "    param_distributions=param_dist,\n",
    "    n_iter=20,\n",
    "    scoring='f1',\n",
    "    cv=3,\n",
    "    verbose=2,\n",
    "    random_state=42,\n",
    "    n_jobs=-1\n",
    ")\n",
    "rs.fit(X_tune, y_tune)\n",
    "\n",
    "print(\"Best parameters:\", rs.best_params_)\n",
    "print(\"Best CV F1 score:\", rs.best_score_)\n"
   ]
  },
  {
   "cell_type": "code",
   "execution_count": 18,
   "metadata": {},
   "outputs": [
    {
     "name": "stdout",
     "output_type": "stream",
     "text": [
      "Tuned XGBoost @0.20 metrics:\n",
      " Accuracy:  0.8105170732138868\n",
      " Precision: 0.3388164227955333\n",
      " Recall:    0.47818555440449706\n",
      " F1 Score:  0.39661377450048246\n",
      " ROC-AUC:   0.7739132956142036\n"
     ]
    }
   ],
   "source": [
    "# ─── Cell 18: EVALUATE BEST ESTIMATOR ───────────────────────────────────────────\n",
    "best_xgb = rs.best_estimator_\n",
    "\n",
    "# Predict on full test set\n",
    "y_prob_best = best_xgb.predict_proba(X_test)[:, 1]\n",
    "y_pred_best = (y_prob_best >= 0.20).astype(int)  # same threshold\n",
    "\n",
    "from sklearn.metrics import accuracy_score, precision_score, recall_score, f1_score, roc_auc_score\n",
    "\n",
    "print(\"Tuned XGBoost @0.20 metrics:\")\n",
    "print(\" Accuracy: \", accuracy_score(y_test, y_pred_best))\n",
    "print(\" Precision:\", precision_score(y_test, y_pred_best))\n",
    "print(\" Recall:   \", recall_score(y_test, y_pred_best))\n",
    "print(\" F1 Score: \", f1_score(y_test, y_pred_best))\n",
    "print(\" ROC-AUC:  \", roc_auc_score(y_test, y_prob_best))\n"
   ]
  },
  {
   "cell_type": "code",
   "execution_count": 19,
   "metadata": {},
   "outputs": [
    {
     "name": "stdout",
     "output_type": "stream",
     "text": [
      "Top 10 features by average |SHAP|:\n",
      " loan_issue_year           0.476590\n",
      "sub_grade_enc             0.282378\n",
      "debt_settlement_flag_Y    0.249925\n",
      "int_rate                  0.149458\n",
      "loan_issue_month          0.148344\n",
      "acc_open_past_24mths      0.125989\n",
      "annual_inc                0.106086\n",
      "dti                       0.098367\n",
      "tot_hi_cred_lim           0.083475\n",
      "installment               0.082846\n",
      "dtype: float32\n"
     ]
    }
   ],
   "source": [
    "# ─── Cell 19: SHAP SUMMARY IMPORTANCE ─────────────────────────────────────────\n",
    "import shap\n",
    "import numpy as np\n",
    "import pandas as pd\n",
    "\n",
    "# Use the tuned model and test data\n",
    "explainer    = shap.TreeExplainer(best_xgb)\n",
    "shap_values  = explainer.shap_values(X_test)\n",
    "\n",
    "# Compute mean absolute SHAP value per feature\n",
    "shap_abs_mean = pd.Series(np.abs(shap_values).mean(axis=0), index=X_test.columns)\n",
    "top10_shap    = shap_abs_mean.sort_values(ascending=False).head(10)\n",
    "\n",
    "print(\"Top 10 features by average |SHAP|:\\n\", top10_shap)\n"
   ]
  },
  {
   "cell_type": "code",
   "execution_count": 23,
   "metadata": {},
   "outputs": [
    {
     "data": {
      "image/png": "[encoded data removed]",
      "text/plain": [
       "<Figure size 800x550 with 1 Axes>"
      ]
     },
     "metadata": {},
     "output_type": "display_data"
    }
   ],
   "source": [
    "# ─── SHAP SUMMARY (BAR) ─────────────────────────────────────────────────────────\n",
    "import shap\n",
    "import matplotlib.pyplot as plt\n",
    "\n",
    "# Explainer already exists; recompute if needed:\n",
    "explainer   = shap.TreeExplainer(best_xgb)\n",
    "X_shap      = X_test.sample(10000, random_state=42)\n",
    "sv          = explainer.shap_values(X_shap)\n",
    "\n",
    "# If it's a list (binary classification), pick the SHAP values for class 1:\n",
    "if isinstance(sv, list):\n",
    "    sv = sv[1]\n",
    "\n",
    "# Bar plot of mean |SHAP|\n",
    "plt.figure(figsize=(8,6))\n",
    "shap.summary_plot(\n",
    "    sv, \n",
    "    X_shap, \n",
    "    plot_type=\"bar\", \n",
    "    max_display=10,\n",
    "    show=True\n",
    ")\n",
    "\n"
   ]
  },
  {
   "cell_type": "code",
   "execution_count": 24,
   "metadata": {},
   "outputs": [
    {
     "data": {
      "image/png": "[encoded data removed]",
      "text/plain": [
       "<Figure size 800x550 with 2 Axes>"
      ]
     },
     "metadata": {},
     "output_type": "display_data"
    },
    {
     "data": {
      "text/plain": [
       "<Figure size 800x600 with 0 Axes>"
      ]
     },
     "metadata": {},
     "output_type": "display_data"
    },
    {
     "data": {
      "image/png": "[encoded data removed]",
      "text/plain": [
       "<Figure size 600x500 with 1 Axes>"
      ]
     },
     "metadata": {},
     "output_type": "display_data"
    }
   ],
   "source": [
    "# ─── SHAP BEESWARM & DEPENDENCE FOR int_rate ───────────────────────────────────\n",
    "import shap\n",
    "import matplotlib.pyplot as plt\n",
    "\n",
    "# (Re)use sv from above; if you rerun this cell standalone, recompute sv the same way.\n",
    "# Beeswarm (dot) summary:\n",
    "plt.figure(figsize=(8,6))\n",
    "shap.summary_plot(\n",
    "    sv, \n",
    "    X_shap, \n",
    "    plot_type=\"dot\", \n",
    "    max_display=10,\n",
    "    show=True\n",
    ")\n",
    "\n",
    "# Dependence plot for a single feature:\n",
    "plt.figure(figsize=(8,6))\n",
    "shap.dependence_plot(\n",
    "    \"int_rate\",   # feature name \n",
    "    sv,           # the class-1 SHAP values array\n",
    "    X_shap, \n",
    "    interaction_index=None, \n",
    "    show=True\n",
    ")\n",
    "\n"
   ]
  },
  {
   "cell_type": "code",
   "execution_count": 25,
   "metadata": {},
   "outputs": [
    {
     "name": "stdout",
     "output_type": "stream",
     "text": [
      "Saved XGBoost credit model to models/xgb_credit.pkl\n"
     ]
    }
   ],
   "source": [
    "import joblib\n",
    "\n",
    "# Make sure models/ exists\n",
    "import os\n",
    "os.makedirs(\"models\", exist_ok=True)\n",
    "\n",
    "# Dump the XGBoost model\n",
    "joblib.dump(best_xgb, \"models/xgb_credit.pkl\")\n",
    "\n",
    "print(\"Saved XGBoost credit model to models/xgb_credit.pkl\")\n"
   ]
  },
  {
   "cell_type": "code",
   "execution_count": null,
   "metadata": {},
   "outputs": [],
   "source": []
  }
 ],
 "metadata": {
  "kernelspec": {
   "display_name": "venv",
   "language": "python",
   "name": "python3"
  },
  "language_info": {
   "codemirror_mode": {
    "name": "ipython",
    "version": 3
   },
   "file_extension": ".py",
   "mimetype": "text/x-python",
   "name": "python",
   "nbconvert_exporter": "python",
   "pygments_lexer": "ipython3",
   "version": "3.12.5"
  }
 },
 "nbformat": 4,
 "nbformat_minor": 2
}
